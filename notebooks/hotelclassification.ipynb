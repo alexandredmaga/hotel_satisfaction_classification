{
  "cells": [
    {
      "cell_type": "code",
      "execution_count": 11,
      "metadata": {
        "id": "uUzcQpQL_v7B"
      },
      "outputs": [
        {
          "ename": "ModuleNotFoundError",
          "evalue": "No module named 'pandas'",
          "output_type": "error",
          "traceback": [
            "\u001b[0;31m---------------------------------------------------------------------------\u001b[0m",
            "\u001b[0;31mModuleNotFoundError\u001b[0m                       Traceback (most recent call last)",
            "Cell \u001b[0;32mIn[11], line 1\u001b[0m\n\u001b[0;32m----> 1\u001b[0m \u001b[39mimport\u001b[39;00m \u001b[39mpandas\u001b[39;00m \u001b[39mas\u001b[39;00m \u001b[39mpd\u001b[39;00m\n\u001b[1;32m      2\u001b[0m \u001b[39mfrom\u001b[39;00m \u001b[39msklearn\u001b[39;00m\u001b[39m.\u001b[39;00m\u001b[39mmodel_selection\u001b[39;00m \u001b[39mimport\u001b[39;00m train_test_split \n\u001b[1;32m      3\u001b[0m \u001b[39mfrom\u001b[39;00m \u001b[39msklearn\u001b[39;00m\u001b[39m.\u001b[39;00m\u001b[39mtree\u001b[39;00m \u001b[39mimport\u001b[39;00m DecisionTreeClassifier\n",
            "\u001b[0;31mModuleNotFoundError\u001b[0m: No module named 'pandas'"
          ]
        }
      ],
      "source": [
        "import pandas as pd\n",
        "from sklearn.model_selection import train_test_split \n",
        "from sklearn.tree import DecisionTreeClassifier"
      ]
    },
    {
      "cell_type": "code",
      "execution_count": 7,
      "metadata": {
        "id": "oTarXtO8BR_G"
      },
      "outputs": [
        {
          "ename": "NameError",
          "evalue": "name 'pd' is not defined",
          "output_type": "error",
          "traceback": [
            "\u001b[0;31m---------------------------------------------------------------------------\u001b[0m",
            "\u001b[0;31mNameError\u001b[0m                                 Traceback (most recent call last)",
            "Cell \u001b[0;32mIn[7], line 1\u001b[0m\n\u001b[0;32m----> 1\u001b[0m df \u001b[39m=\u001b[39m pd\u001b[39m.\u001b[39mread_csv(\u001b[39m\"\u001b[39m\u001b[39m../data/dataset.csv\u001b[39m\u001b[39m\"\u001b[39m) \n",
            "\u001b[0;31mNameError\u001b[0m: name 'pd' is not defined"
          ]
        }
      ],
      "source": [
        "df = pd.read_csv(\"../data/dataset.csv\") "
      ]
    },
    {
      "cell_type": "code",
      "execution_count": null,
      "metadata": {
        "colab": {
          "base_uri": "https://localhost:8080/"
        },
        "id": "T288Ts_dBb-F",
        "outputId": "1ecdf1b2-ceb8-419c-b766-9407c00a036f"
      },
      "outputs": [
        {
          "name": "stdout",
          "output_type": "stream",
          "text": [
            "<class 'pandas.core.frame.DataFrame'>\n",
            "RangeIndex: 103904 entries, 0 to 103903\n",
            "Data columns (total 17 columns):\n",
            " #   Column                          Non-Null Count   Dtype \n",
            "---  ------                          --------------   ----- \n",
            " 0   id                              103904 non-null  int64 \n",
            " 1   Gender                          103904 non-null  object\n",
            " 2   Age                             103904 non-null  int64 \n",
            " 3   purpose_of_travel               103904 non-null  object\n",
            " 4   Type of Travel                  103904 non-null  object\n",
            " 5   Type Of Booking                 103904 non-null  object\n",
            " 6   Hotel wifi service              103904 non-null  int64 \n",
            " 7   Departure/Arrival  convenience  103904 non-null  int64 \n",
            " 8   Ease of Online booking          103904 non-null  int64 \n",
            " 9   Hotel location                  103904 non-null  int64 \n",
            " 10  Food and drink                  103904 non-null  int64 \n",
            " 11  Stay comfort                    103904 non-null  int64 \n",
            " 12  Common Room entertainment       103904 non-null  int64 \n",
            " 13  Checkin/Checkout service        103904 non-null  int64 \n",
            " 14  Other service                   103904 non-null  int64 \n",
            " 15  Cleanliness                     103904 non-null  int64 \n",
            " 16  satisfaction                    103904 non-null  object\n",
            "dtypes: int64(12), object(5)\n",
            "memory usage: 13.5+ MB\n"
          ]
        }
      ],
      "source": [
        "df.info()"
      ]
    },
    {
      "cell_type": "code",
      "execution_count": null,
      "metadata": {
        "id": "bGA1b22GBlfe"
      },
      "outputs": [],
      "source": [
        "df1 = df.drop(columns=[\"id\",\"Type Of Booking\"])"
      ]
    },
    {
      "cell_type": "code",
      "execution_count": null,
      "metadata": {
        "colab": {
          "base_uri": "https://localhost:8080/"
        },
        "id": "GRulBBOzCoUq",
        "outputId": "5b3b9fde-6212-4ee9-fa88-6daf15f37aa4"
      },
      "outputs": [
        {
          "data": {
            "text/plain": [
              "Gender                            0\n",
              "Age                               0\n",
              "purpose_of_travel                 0\n",
              "Type of Travel                    0\n",
              "Hotel wifi service                0\n",
              "Departure/Arrival  convenience    0\n",
              "Ease of Online booking            0\n",
              "Hotel location                    0\n",
              "Food and drink                    0\n",
              "Stay comfort                      0\n",
              "Common Room entertainment         0\n",
              "Checkin/Checkout service          0\n",
              "Other service                     0\n",
              "Cleanliness                       0\n",
              "satisfaction                      0\n",
              "dtype: int64"
            ]
          },
          "execution_count": 48,
          "metadata": {},
          "output_type": "execute_result"
        }
      ],
      "source": [
        "df1.isnull().sum()"
      ]
    },
    {
      "cell_type": "code",
      "execution_count": null,
      "metadata": {
        "id": "tnNLbDdBjI7Q"
      },
      "outputs": [],
      "source": [
        "df1['Gender'] = df1['Gender'].replace(['Male'],'1')\n",
        "df1['Gender'] = df1['Gender'].replace(['Female'],'2')\n",
        "\n",
        "df1['Type of Travel'] = df1['Type of Travel'].replace(['Personal Travel'],'1')\n",
        "df1['Type of Travel'] = df1['Type of Travel'].replace(['Group Travel'],'2')\n",
        "\n",
        "df1['satisfaction'] = df1['satisfaction'].replace(['neutral or dissatisfied'],'2')\n",
        "df1['satisfaction'] = df1['satisfaction'].replace(['satisfied'],'1')\n",
        "\n",
        "df1['purpose_of_travel'] = df1['purpose_of_travel'].replace(['tourism'],'5')\n",
        "df1['purpose_of_travel'] = df1['purpose_of_travel'].replace(['academic'],'4')\n",
        "df1['purpose_of_travel'] = df1['purpose_of_travel'].replace(['business'],'3')\n",
        "df1['purpose_of_travel'] = df1['purpose_of_travel'].replace(['aviation'],'2')\n",
        "df1['purpose_of_travel'] = df1['purpose_of_travel'].replace(['personal'],'1')"
      ]
    },
    {
      "cell_type": "code",
      "execution_count": null,
      "metadata": {
        "colab": {
          "base_uri": "https://localhost:8080/"
        },
        "id": "C-TrmAIDkrHi",
        "outputId": "1b79f2d0-7986-4083-891b-07a6d1000510"
      },
      "outputs": [
        {
          "data": {
            "text/plain": [
              "Gender                            int64\n",
              "Age                               int64\n",
              "Type of Travel                    int64\n",
              "Hotel wifi service                int64\n",
              "Departure/Arrival  convenience    int64\n",
              "Ease of Online booking            int64\n",
              "Hotel location                    int64\n",
              "Food and drink                    int64\n",
              "Stay comfort                      int64\n",
              "Common Room entertainment         int64\n",
              "Checkin/Checkout service          int64\n",
              "Other service                     int64\n",
              "Cleanliness                       int64\n",
              "satisfaction                      int64\n",
              "dtype: object"
            ]
          },
          "execution_count": 50,
          "metadata": {},
          "output_type": "execute_result"
        }
      ],
      "source": [
        "df1['Gender']=df1.Gender.astype(int)\n",
        "df1['Type of Travel']=df1['Type of Travel'].astype(int)\n",
        "df1['satisfaction']=df1.satisfaction.astype(int) \n",
        "df1 = df1.drop(['purpose_of_travel'], axis=1)\n",
        "df1.dtypes"
      ]
    },
    {
      "cell_type": "code",
      "execution_count": null,
      "metadata": {
        "id": "oK6b6t3mgc8g"
      },
      "outputs": [],
      "source": [
        "y = df1['satisfaction']\n",
        "X = df1.drop(columns=['satisfaction'])\n",
        "\n",
        "from sklearn.model_selection import train_test_split \n",
        "\n",
        "X_train, X_test, y_train, y_test = train_test_split(X,y,test_size=0.30,random_state=123)"
      ]
    },
    {
      "cell_type": "code",
      "execution_count": null,
      "metadata": {
        "colab": {
          "base_uri": "https://localhost:8080/"
        },
        "id": "R87E0XvLiz46",
        "outputId": "6563531b-c33a-4f35-b949-b7862eb716e6"
      },
      "outputs": [
        {
          "data": {
            "text/plain": [
              "KNeighborsClassifier(n_neighbors=3)"
            ]
          },
          "execution_count": 52,
          "metadata": {},
          "output_type": "execute_result"
        }
      ],
      "source": [
        "from sklearn.neighbors import KNeighborsClassifier\n",
        "\n",
        "knn = KNeighborsClassifier(n_neighbors=3)\n",
        "knn.fit(X_train,y_train)"
      ]
    },
    {
      "cell_type": "code",
      "execution_count": null,
      "metadata": {
        "colab": {
          "base_uri": "https://localhost:8080/"
        },
        "id": "35K5rcrqnF_b",
        "outputId": "099b2d93-09aa-4757-9c30-60f60e9991e6"
      },
      "outputs": [
        {
          "name": "stdout",
          "output_type": "stream",
          "text": [
            "[1]\n"
          ]
        },
        {
          "name": "stderr",
          "output_type": "stream",
          "text": [
            "/usr/local/lib/python3.8/dist-packages/sklearn/base.py:450: UserWarning: X does not have valid feature names, but KNeighborsClassifier was fitted with feature names\n",
            "  warnings.warn(\n"
          ]
        }
      ],
      "source": [
        "print(knn.predict([[1,20,4,4,4,4,4,4,4,4,4,4,4]])) "
      ]
    },
    {
      "cell_type": "code",
      "execution_count": null,
      "metadata": {
        "colab": {
          "base_uri": "https://localhost:8080/"
        },
        "id": "lBW8sZEjpeYn",
        "outputId": "36bef633-5d45-4d14-a085-5f9697467d79"
      },
      "outputs": [
        {
          "name": "stdout",
          "output_type": "stream",
          "text": [
            "Relatório de Classificação:\n",
            "               precision    recall  f1-score   support\n",
            "\n",
            "           1     0.8781    0.8566    0.8672     13373\n",
            "           2     0.8942    0.9107    0.9024     17799\n",
            "\n",
            "    accuracy                         0.8875     31172\n",
            "   macro avg     0.8862    0.8836    0.8848     31172\n",
            "weighted avg     0.8873    0.8875    0.8873     31172\n",
            "\n"
          ]
        }
      ],
      "source": [
        "from sklearn.metrics import confusion_matrix\n",
        "from sklearn.metrics import classification_report\n",
        "y_pred = knn.predict(X_test)\n",
        "print(\"Relatório de Classificação:\\n\", classification_report(y_test, y_pred, digits=4))"
      ]
    },
    {
      "cell_type": "code",
      "execution_count": null,
      "metadata": {
        "colab": {
          "base_uri": "https://localhost:8080/"
        },
        "id": "ECcDtI65qwva",
        "outputId": "9907daff-2373-47bf-bf59-8a3fa363d979"
      },
      "outputs": [
        {
          "name": "stdout",
          "output_type": "stream",
          "text": [
            "Relatório de Classificação:\n",
            "               precision    recall  f1-score   support\n",
            "\n",
            "           1     0.8941    0.9085    0.9013     13373\n",
            "           2     0.9304    0.9192    0.9248     17799\n",
            "\n",
            "    accuracy                         0.9146     31172\n",
            "   macro avg     0.9123    0.9138    0.9130     31172\n",
            "weighted avg     0.9149    0.9146    0.9147     31172\n",
            "\n"
          ]
        }
      ],
      "source": [
        "modelo_tree = DecisionTreeClassifier(random_state=42)\n",
        "modelo_tree.fit(X_train,y_train)\n",
        "y_pred = modelo_tree.predict(X_test)\n",
        "print(\"Relatório de Classificação:\\n\", classification_report(y_test, y_pred, digits=4))"
      ]
    },
    {
      "cell_type": "code",
      "execution_count": null,
      "metadata": {
        "colab": {
          "base_uri": "https://localhost:8080/"
        },
        "id": "7XA1hCTcrBDj",
        "outputId": "8e64d2b4-e3b3-40a3-8cd0-5a2b043b65f5"
      },
      "outputs": [
        {
          "name": "stdout",
          "output_type": "stream",
          "text": [
            "Relatório de Classificação:\n",
            "               precision    recall  f1-score   support\n",
            "\n",
            "           1     0.9019    0.9054    0.9036     13373\n",
            "           2     0.9287    0.9260    0.9274     17799\n",
            "\n",
            "    accuracy                         0.9172     31172\n",
            "   macro avg     0.9153    0.9157    0.9155     31172\n",
            "weighted avg     0.9172    0.9172    0.9172     31172\n",
            "\n"
          ]
        }
      ],
      "source": [
        "import xgboost as xgb\n",
        "xgb_model = xgb.XGBClassifier(objective=\"binary:logistic\", random_state=42)\n",
        "xgb_model.fit(X_train,y_train)\n",
        "y_pred = xgb_model.predict(X_test)\n",
        "print(\"Relatório de Classificação:\\n\", classification_report(y_test, y_pred, digits=4))"
      ]
    },
    {
      "cell_type": "code",
      "execution_count": null,
      "metadata": {
        "colab": {
          "base_uri": "https://localhost:8080/"
        },
        "id": "WieL5RO2sDas",
        "outputId": "ca1b5f13-e1ce-4f10-8919-b427c7cf4390"
      },
      "outputs": [
        {
          "name": "stdout",
          "output_type": "stream",
          "text": [
            "Relatório de Classificação:\n",
            "               precision    recall  f1-score   support\n",
            "\n",
            "           1     0.9266    0.9506    0.9384     17623\n",
            "           2     0.9495    0.9250    0.9371     17705\n",
            "\n",
            "    accuracy                         0.9378     35328\n",
            "   macro avg     0.9381    0.9378    0.9378     35328\n",
            "weighted avg     0.9381    0.9378    0.9378     35328\n",
            "\n"
          ]
        }
      ],
      "source": [
        "from sklearn.ensemble import RandomForestClassifier\n",
        "modelo_tree = RandomForestClassifier(n_estimators=10,random_state=42)\n",
        "modelo_tree.fit(X_train,y_train)\n",
        "y_pred = modelo_tree.predict(X_test)\n",
        "print(\"Relatório de Classificação:\\n\", classification_report(y_test, y_pred, digits=4))"
      ]
    },
    {
      "cell_type": "code",
      "execution_count": null,
      "metadata": {
        "colab": {
          "base_uri": "https://localhost:8080/"
        },
        "id": "xij0es4wscqz",
        "outputId": "2ee7f49b-c7b6-4256-a87f-1a006e888e8a"
      },
      "outputs": [
        {
          "name": "stdout",
          "output_type": "stream",
          "text": [
            "Relatório de Classificação:\n",
            "               precision    recall  f1-score   support\n",
            "\n",
            "           1     0.9258    0.9348    0.9303     14731\n",
            "           2     0.9341    0.9250    0.9295     14709\n",
            "\n",
            "    accuracy                         0.9299     29440\n",
            "   macro avg     0.9300    0.9299    0.9299     29440\n",
            "weighted avg     0.9300    0.9299    0.9299     29440\n",
            "\n"
          ]
        }
      ],
      "source": [
        "from sklearn.neural_network import MLPClassifier\n",
        "modelo_mlp = MLPClassifier(random_state=1, max_iter=300)\n",
        "modelo_mlp.fit(X_train,y_train)\n",
        "y_pred = modelo_mlp.predict(X_test)\n",
        "print(\"Relatório de Classificação:\\n\", classification_report(y_test, y_pred, digits=4))"
      ]
    },
    {
      "cell_type": "code",
      "execution_count": null,
      "metadata": {
        "id": "bjQdr8folXj5"
      },
      "outputs": [],
      "source": [
        "import pickle\n",
        "with open('../models/modelo.pkl', 'wb') as file:\n",
        "    pickle.dump(modelo_tree, file)"
      ]
    }
  ],
  "metadata": {
    "colab": {
      "provenance": []
    },
    "kernelspec": {
      "display_name": "Python 3",
      "language": "python",
      "name": "python3"
    },
    "language_info": {
      "codemirror_mode": {
        "name": "ipython",
        "version": 3
      },
      "file_extension": ".py",
      "mimetype": "text/x-python",
      "name": "python",
      "nbconvert_exporter": "python",
      "pygments_lexer": "ipython3",
      "version": "3.9.5"
    },
    "vscode": {
      "interpreter": {
        "hash": "916dbcbb3f70747c44a77c7bcd40155683ae19c65e1c03b4aa3499c5328201f1"
      }
    }
  },
  "nbformat": 4,
  "nbformat_minor": 0
}
